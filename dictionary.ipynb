{
 "cells": [
  {
   "cell_type": "code",
   "execution_count": null,
   "id": "346a4d50-863b-44e2-a419-9a8464bd9ff8",
   "metadata": {},
   "outputs": [],
   "source": [
    "hashmap "
   ]
  },
  {
   "cell_type": "code",
   "execution_count": 13,
   "id": "2fc0cdb9-c8ba-428f-9d3d-6e766415f754",
   "metadata": {},
   "outputs": [],
   "source": [
    "d = {'applke': 1, 'banana': 2, 'orange': 3}"
   ]
  },
  {
   "cell_type": "code",
   "execution_count": 8,
   "id": "c17f1318-fc56-4e36-a6eb-5c6d1ad715fa",
   "metadata": {},
   "outputs": [
    {
     "name": "stdout",
     "output_type": "stream",
     "text": [
      "orange\n",
      "3\n"
     ]
    }
   ],
   "source": [
    "import random\n",
    "fruits = ['apple', 'banana', 'orange']\n",
    "l = [('apple', 1), ('banana', 2), ('orange', 3)]\n",
    "fruit = random.choice(fruits)\n",
    "print(fruit)\n",
    "value = [item[1] for item in l if item[0] == fruit][0]#o element of that list\n",
    "print(value)\n",
    "#return item[1]\n",
    "#first check for item in\n",
    "#second check if item[0] == fruit"
   ]
  },
  {
   "cell_type": "code",
   "execution_count": 9,
   "id": "217c9ee3-f653-421f-84e8-7f2f7292baa6",
   "metadata": {},
   "outputs": [],
   "source": [
    "import random\n",
    "fruits = ['apple', 'banana', 'orange']\n",
    "l = [('apple', 1), ('banana', 2), ('orange', 3)]\n",
    "fruit = random.choice(fruits)"
   ]
  },
  {
   "cell_type": "code",
   "execution_count": 10,
   "id": "f2469503-9e58-442c-bd45-2008732da2ce",
   "metadata": {},
   "outputs": [
    {
     "data": {
      "text/plain": [
       "'apple'"
      ]
     },
     "execution_count": 10,
     "metadata": {},
     "output_type": "execute_result"
    }
   ],
   "source": [
    "fruit"
   ]
  },
  {
   "cell_type": "code",
   "execution_count": 16,
   "id": "c04a5078-9db3-4b0a-8362-1eb9445eb61b",
   "metadata": {},
   "outputs": [
    {
     "name": "stdout",
     "output_type": "stream",
     "text": [
      "banana\n",
      "2\n"
     ]
    }
   ],
   "source": [
    "fruit = random.choice(fruits)\n",
    "print(fruit)\n",
    "value = d[fruit]\n",
    "print(value)"
   ]
  },
  {
   "cell_type": "code",
   "execution_count": null,
   "id": "974dc5b8-a855-43d1-944a-08def8006f9c",
   "metadata": {},
   "outputs": [],
   "source": [
    "why is faster\n",
    "h(key)->memory loction->value\n",
    "O(1)\n"
   ]
  },
  {
   "cell_type": "code",
   "execution_count": null,
   "id": "8a2ead05-8848-40b8-b037-e2f2dba97c06",
   "metadata": {},
   "outputs": [],
   "source": [
    "  id function shows where in memory this data is stored"
   ]
  },
  {
   "cell_type": "code",
   "execution_count": null,
   "id": "8b01c78b-7c33-4c8d-9854-f24ec19c20c5",
   "metadata": {},
   "outputs": [],
   "source": [
    "reassign a number\n"
   ]
  },
  {
   "cell_type": "code",
   "execution_count": null,
   "id": "bba22bde-e93a-4b56-9e19-ea941df5c187",
   "metadata": {},
   "outputs": [],
   "source": [
    "x = 1\n",
    "x + = 1 #immutable"
   ]
  },
  {
   "cell_type": "code",
   "execution_count": null,
   "id": "cc7bc1f7-311c-4256-b114-46cbcb3328fb",
   "metadata": {},
   "outputs": [],
   "source": [
    "append : no change \n",
    "+:id change\n",
    "list :+= operator like .append, id dont change so called mutable , memory not change but values change  \n",
    "immutability : there is no way we change the data that stored in the initial memory\n"
   ]
  },
  {
   "cell_type": "code",
   "execution_count": 17,
   "id": "ad45e564-cd06-43fb-bcd1-fd525d6d53a6",
   "metadata": {},
   "outputs": [
    {
     "name": "stdout",
     "output_type": "stream",
     "text": [
      "[('tim', 21, 'tr'), ('ron', 40, 'rb'), ('sarah', 45, 'sr')]\n"
     ]
    }
   ],
   "source": [
    "#zip\n",
    "names = ['tim', 'ron', 'sarah']\n",
    "ages = [21, 40, 45]\n",
    "initials = ['tr', 'rb', 'sr']\n",
    "z = zip(names, ages, initials)\n",
    "print(list(z))"
   ]
  },
  {
   "cell_type": "code",
   "execution_count": 18,
   "id": "b032cf67-da0b-4437-9c8c-11df3f93136e",
   "metadata": {},
   "outputs": [
    {
     "name": "stdout",
     "output_type": "stream",
     "text": [
      "True\n"
     ]
    }
   ],
   "source": [
    "#Learn how to use the any() function in python\n",
    "#to see if any items in an iterable object evaluate to True.\n",
    "string = 'hello world'\n",
    "lst = [1, 2, 3, 4, 5]\n",
    "print(any(string))#character means true"
   ]
  },
  {
   "cell_type": "code",
   "execution_count": 20,
   "id": "9c839fa7-d1b1-4098-a6cb-e184f729b074",
   "metadata": {},
   "outputs": [
    {
     "name": "stdout",
     "output_type": "stream",
     "text": [
      "True\n"
     ]
    }
   ],
   "source": [
    "#all\n",
    "#This function tells you if all the values in an iterable object are True.\n",
    "string = 'hello world'\n",
    "lst = [1, 2, 3, 4, 5]\n",
    "print(all(string))"
   ]
  },
  {
   "cell_type": "code",
   "execution_count": null,
   "id": "8103a975-f90b-4803-8eb2-24ea6d45a3a1",
   "metadata": {},
   "outputs": [],
   "source": [
    "#*args and **kwargs allows you to accept unlimited positional \n",
    "#and keyword arguments in functions and methods.\n"
   ]
  },
  {
   "cell_type": "code",
   "execution_count": null,
   "id": "03a74869-1354-4a7a-99df-88936b3ad1d4",
   "metadata": {},
   "outputs": [],
   "source": [
    "class Student:\n",
    "    university_name = 'southampton'\n",
    "    def init\n",
    "#class variable university_name\n",
    "#instance variable s1.univeresity_name\n",
    "#trace two class "
   ]
  },
  {
   "cell_type": "code",
   "execution_count": 21,
   "id": "7640c175-814b-418c-bc67-aac3cc9196fb",
   "metadata": {},
   "outputs": [
    {
     "name": "stdout",
     "output_type": "stream",
     "text": [
      "1\n",
      "2\n",
      "3\n"
     ]
    }
   ],
   "source": [
    "# iterator and generator\n",
    "l = [1, 2, 3,]\n",
    "for item in l:\n",
    "    print(item)"
   ]
  },
  {
   "cell_type": "code",
   "execution_count": null,
   "id": "1f6c092c-dd2d-4940-836b-50ab4eb4dac7",
   "metadata": {},
   "outputs": [],
   "source": [
    "object "
   ]
  }
 ],
 "metadata": {
  "kernelspec": {
   "display_name": "Python 3",
   "language": "python",
   "name": "python3"
  },
  "language_info": {
   "codemirror_mode": {
    "name": "ipython",
    "version": 3
   },
   "file_extension": ".py",
   "mimetype": "text/x-python",
   "name": "python",
   "nbconvert_exporter": "python",
   "pygments_lexer": "ipython3",
   "version": "3.8.8"
  }
 },
 "nbformat": 4,
 "nbformat_minor": 5
}
